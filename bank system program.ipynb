{
 "cells": [
  {
   "cell_type": "code",
   "execution_count": 1,
   "metadata": {},
   "outputs": [],
   "source": [
    "class User():\n",
    "    def __init__ (self,Name,Age,Gender,ID,cell_phone):\n",
    "        self.name = Name\n",
    "        self.age = Age\n",
    "        self.gender = Gender\n",
    "        self.id = ID\n",
    "        self.cell_phone = cell_phone\n",
    "    def Show_data(self):\n",
    "        print(\"name:\",self.name)\n",
    "        print(\"age:\",self.age)\n",
    "        print('gender:',self.gender)\n",
    "        print('ID:',self.id)\n",
    "        print('cell_phone:',self.cell_phone)\n",
    "        \n",
    "\n",
    "user1 = ('mahmoud',35,'male',3133,1558398586)\n",
    "user2 = ('noor',25,'female',3123,1558398556)"
   ]
  },
  {
   "cell_type": "code",
   "execution_count": 2,
   "metadata": {},
   "outputs": [
    {
     "data": {
      "text/plain": [
       "('mahmoud', 35, 'male', 3133, 1558398586)"
      ]
     },
     "execution_count": 2,
     "metadata": {},
     "output_type": "execute_result"
    }
   ],
   "source": [
    "user1"
   ]
  },
  {
   "cell_type": "code",
   "execution_count": 3,
   "metadata": {},
   "outputs": [
    {
     "data": {
      "text/plain": [
       "('mahmoud', 35, 'male', 3133, 1558398586)"
      ]
     },
     "execution_count": 3,
     "metadata": {},
     "output_type": "execute_result"
    }
   ],
   "source": [
    "user1"
   ]
  },
  {
   "cell_type": "code",
   "execution_count": 4,
   "metadata": {},
   "outputs": [],
   "source": [
    "class Bank(User):\n",
    "     def __init__(self,Name,Age,Gender,ID,cell_phone):\n",
    "        User.__init__(self,Name,Age,Gender,ID,cell_phone)\n",
    "        self.balance = 0\n",
    "        print(\"name:\",self.name)\n",
    "        print(\"age:\",self.age)\n",
    "        print('gender:',self.gender)\n",
    "        print('ID:',self.id)\n",
    "        print('cell_phone:',self.cell_phone)\n",
    "        \n",
    "    \n",
    "     def Deposit(self,amount):\n",
    "        self.amount = amount\n",
    "        self.balance = self.amount + self.balance\n",
    "        print(f'you have depositied : ${self.amount}')\n",
    "        print(f'Total balance now is: ${self.balance}')\n",
    "  \n",
    "     def Withdraw(self,amount):\n",
    "        self.amount = amount\n",
    "        if self.amount <= self.balance :\n",
    "            self.balance = self.amount -  self.balance\n",
    "            print('operation has been done')\n",
    "            print('ur current balance is: $',self.balance)\n",
    "        else:\n",
    "            print('Your balance is low')\n",
    "            print('available balance is:  $',self.balance)\n",
    "            \n",
    "     def Check_balance(self):\n",
    "            print('your current balance is : $',self.balance)\n",
    "        \n",
    "     def New_account():\n",
    "            name = input('enter your name')\n",
    "            age = input('enter your age')\n",
    "            gender = input('enter your gender')\n",
    "            ID = input('enter your id')\n",
    "            mobile = input('enter your mobile')\n",
    "            password = input('enter your password')\n",
    "            print('account created successfully')\n",
    "\n",
    "                    \n",
    "     def Main_methods(self):\n",
    "            print('1.New_account  2.deposit 3.withdraw 4.check balance')\n",
    "            choice = input('enter your option to execute: ')\n",
    "            if choice == '1' :\n",
    "                self.New_account()\n",
    "            elif choice == '2' :\n",
    "                self.Deposit(int(input('Amount: ')))\n",
    "            elif choice == '3' :\n",
    "                self.Withdraw(int(input('Amount: ')))\n",
    "            elif choice == '4' :\n",
    "                self.Check_balance()\n",
    "            else:\n",
    "                pass\n",
    "                \n",
    "              "
   ]
  },
  {
   "cell_type": "code",
   "execution_count": 5,
   "metadata": {},
   "outputs": [
    {
     "name": "stdout",
     "output_type": "stream",
     "text": [
      "name: mahmoud\n",
      "age: 35\n",
      "gender: male\n",
      "ID: 3133\n",
      "cell_phone: 1558398586\n",
      "name: noor\n",
      "age: 25\n",
      "gender: female\n",
      "ID: 3123\n",
      "cell_phone: 1558398556\n"
     ]
    }
   ],
   "source": [
    "user1= Bank('mahmoud',35,'male',3133,1558398586)\n",
    "user2= Bank('noor',25,'female',3123,1558398556)"
   ]
  },
  {
   "cell_type": "code",
   "execution_count": 6,
   "metadata": {},
   "outputs": [
    {
     "name": "stdout",
     "output_type": "stream",
     "text": [
      "name: mahmoud\n",
      "age: 35\n",
      "gender: male\n",
      "ID: 3133\n",
      "cell_phone: 1558398586\n"
     ]
    }
   ],
   "source": [
    "user1= Bank('mahmoud',35,'male',3133,1558398586)"
   ]
  },
  {
   "cell_type": "code",
   "execution_count": null,
   "metadata": {},
   "outputs": [
    {
     "name": "stdout",
     "output_type": "stream",
     "text": [
      "1.New_account  2.deposit 3.withdraw 4.check balance\n"
     ]
    }
   ],
   "source": [
    "user1.Main_methods()"
   ]
  },
  {
   "cell_type": "code",
   "execution_count": 12,
   "metadata": {},
   "outputs": [
    {
     "data": {
      "text/plain": [
       "'noor'"
      ]
     },
     "execution_count": 12,
     "metadata": {},
     "output_type": "execute_result"
    }
   ],
   "source": [
    "user2.name"
   ]
  },
  {
   "cell_type": "code",
   "execution_count": 13,
   "metadata": {},
   "outputs": [
    {
     "data": {
      "text/plain": [
       "35"
      ]
     },
     "execution_count": 13,
     "metadata": {},
     "output_type": "execute_result"
    }
   ],
   "source": [
    "user1.age"
   ]
  },
  {
   "cell_type": "code",
   "execution_count": 14,
   "metadata": {},
   "outputs": [
    {
     "data": {
      "text/plain": [
       "25"
      ]
     },
     "execution_count": 14,
     "metadata": {},
     "output_type": "execute_result"
    }
   ],
   "source": [
    "user2.age"
   ]
  },
  {
   "cell_type": "code",
   "execution_count": 15,
   "metadata": {},
   "outputs": [
    {
     "data": {
      "text/plain": [
       "3133"
      ]
     },
     "execution_count": 15,
     "metadata": {},
     "output_type": "execute_result"
    }
   ],
   "source": [
    "user1.id"
   ]
  },
  {
   "cell_type": "code",
   "execution_count": null,
   "metadata": {},
   "outputs": [],
   "source": []
  }
 ],
 "metadata": {
  "kernelspec": {
   "display_name": "Python 3",
   "language": "python",
   "name": "python3"
  },
  "language_info": {
   "codemirror_mode": {
    "name": "ipython",
    "version": 3
   },
   "file_extension": ".py",
   "mimetype": "text/x-python",
   "name": "python",
   "nbconvert_exporter": "python",
   "pygments_lexer": "ipython3",
   "version": "3.8.5"
  }
 },
 "nbformat": 4,
 "nbformat_minor": 4
}
